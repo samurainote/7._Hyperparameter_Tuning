{
 "cells": [
  {
   "cell_type": "markdown",
   "metadata": {},
   "source": [
    "# Comparing Hyperparameter Tuning"
   ]
  },
  {
   "cell_type": "code",
   "execution_count": 25,
   "metadata": {},
   "outputs": [],
   "source": [
    "from sklearn.model_selection import train_test_split\n",
    "from sklearn.datasets import load_digits\n",
    "digits = load_digits()\n",
    "X, y = digits.data, digits.target\n",
    "X_train, X_test, y_train, y_test = train_test_split(X, y, test_size=0.3)"
   ]
  },
  {
   "cell_type": "code",
   "execution_count": 26,
   "metadata": {},
   "outputs": [],
   "source": [
    "from sklearn.svm import SVC\n",
    "clf = SVC()"
   ]
  },
  {
   "cell_type": "markdown",
   "metadata": {},
   "source": [
    "# Grid search"
   ]
  },
  {
   "cell_type": "code",
   "execution_count": 51,
   "metadata": {},
   "outputs": [],
   "source": [
    "# 'C=1.0', \"kernel='rbf'\", '\"gamma='auto_deprecated'\"\n",
    "hyperparameters = {\"C\": [0.1, 1, 10, 100], \"kernel\": [\"linear\", \"rbf\", \"poly\"], \"gamma\": [0.01, 0.001, 0.0001]}"
   ]
  },
  {
   "cell_type": "code",
   "execution_count": 56,
   "metadata": {},
   "outputs": [
    {
     "data": {
      "text/plain": [
       "GridSearchCV(cv=5, error_score='raise-deprecating',\n",
       "       estimator=SVC(C=1.0, cache_size=200, class_weight=None, coef0=0.0,\n",
       "  decision_function_shape='ovr', degree=3, gamma='auto_deprecated',\n",
       "  kernel='rbf', max_iter=-1, probability=False, random_state=None,\n",
       "  shrinking=True, tol=0.001, verbose=False),\n",
       "       fit_params=None, iid='warn', n_jobs=None,\n",
       "       param_grid={'kernel': ['linear', 'rbf', 'poly'], 'C': [0.1, 1, 10, 100], 'gamma': [0.001, 0.0001]},\n",
       "       pre_dispatch='2*n_jobs', refit=True, return_train_score='warn',\n",
       "       scoring='accuracy', verbose=0)"
      ]
     },
     "execution_count": 56,
     "metadata": {},
     "output_type": "execute_result"
    }
   ],
   "source": [
    "from sklearn.model_selection import GridSearchCV\n",
    "GS_clf = GridSearchCV(clf, hyperparameters, cv=5, scoring=\"accuracy\")\n",
    "GS_clf.fit(X_train, y_train)"
   ]
  },
  {
   "cell_type": "code",
   "execution_count": 57,
   "metadata": {},
   "outputs": [
    {
     "data": {
      "text/plain": [
       "{'C': 10, 'gamma': 0.001, 'kernel': 'rbf'}"
      ]
     },
     "execution_count": 57,
     "metadata": {},
     "output_type": "execute_result"
    }
   ],
   "source": [
    "GS_clf.best_params_"
   ]
  },
  {
   "cell_type": "markdown",
   "metadata": {},
   "source": [
    "# Random Search"
   ]
  },
  {
   "cell_type": "code",
   "execution_count": 63,
   "metadata": {},
   "outputs": [
    {
     "data": {
      "text/plain": [
       "RandomizedSearchCV(cv=5, error_score='raise-deprecating',\n",
       "          estimator=SVC(C=1.0, cache_size=200, class_weight=None, coef0=0.0,\n",
       "  decision_function_shape='ovr', degree=3, gamma='auto_deprecated',\n",
       "  kernel='rbf', max_iter=-1, probability=False, random_state=None,\n",
       "  shrinking=True, tol=0.001, verbose=False),\n",
       "          fit_params=None, iid='warn', n_iter=10, n_jobs=None,\n",
       "          param_distributions={'kernel': ['linear', 'rbf', 'poly'], 'C': [0.1, 1, 10, 100], 'gamma': [0.001, 0.0001]},\n",
       "          pre_dispatch='2*n_jobs', random_state=3, refit=True,\n",
       "          return_train_score='warn', scoring='accuracy', verbose=0)"
      ]
     },
     "execution_count": 63,
     "metadata": {},
     "output_type": "execute_result"
    }
   ],
   "source": [
    "from sklearn.model_selection import RandomizedSearchCV\n",
    "estimator = SVC()\n",
    "RS_estimator = RandomizedSearchCV(estimator, hyperparameters, cv=5, scoring=\"accuracy\", random_state=3)\n",
    "RS_estimator.fit(X_train, y_train)"
   ]
  },
  {
   "cell_type": "code",
   "execution_count": 64,
   "metadata": {},
   "outputs": [
    {
     "data": {
      "text/plain": [
       "{'C': 10, 'gamma': 0.001, 'kernel': 'rbf'}"
      ]
     },
     "execution_count": 64,
     "metadata": {},
     "output_type": "execute_result"
    }
   ],
   "source": [
    "RS_estimator.best_params_"
   ]
  },
  {
   "cell_type": "markdown",
   "metadata": {},
   "source": [
    "# Bayes Optimization"
   ]
  },
  {
   "cell_type": "code",
   "execution_count": 114,
   "metadata": {},
   "outputs": [],
   "source": [
    "iris = datasets.load_digits()\n",
    "X, y = digits.data, digits.target\n",
    "\n",
    "from sklearn.model_selection import cross_validate\n",
    "def estimator(C, gamma):\n",
    "    # initialize model\n",
    "    model = SVC(C=C, gamma=gamma, degree=1, random_state=0)\n",
    "    # cross-validation\n",
    "    result = cross_validate(model, X, y, cv=10)\n",
    "    # result\n",
    "    return np.mean(result['test_score'])"
   ]
  },
  {
   "cell_type": "code",
   "execution_count": 115,
   "metadata": {},
   "outputs": [
    {
     "name": "stdout",
     "output_type": "stream",
     "text": [
      "|   iter    |  target   |     C     |   gamma   |\n",
      "-------------------------------------------------\n",
      "| \u001b[0m 1       \u001b[0m | \u001b[0m 0.1013  \u001b[0m | \u001b[0m 1.438e+0\u001b[0m | \u001b[0m 8.156e+0\u001b[0m |\n",
      "| \u001b[0m 2       \u001b[0m | \u001b[0m 0.1013  \u001b[0m | \u001b[0m 2.97e+03\u001b[0m | \u001b[0m 6.684e+0\u001b[0m |\n",
      "| \u001b[0m 3       \u001b[0m | \u001b[0m 0.1013  \u001b[0m | \u001b[0m 744.8   \u001b[0m | \u001b[0m 581.5   \u001b[0m |\n",
      "| \u001b[0m 4       \u001b[0m | \u001b[0m 0.1013  \u001b[0m | \u001b[0m 1.775e+0\u001b[0m | \u001b[0m 7.959e+0\u001b[0m |\n",
      "| \u001b[0m 5       \u001b[0m | \u001b[0m 0.1013  \u001b[0m | \u001b[0m 2.995e+0\u001b[0m | \u001b[0m 2.474e+0\u001b[0m |\n",
      "| \u001b[0m 6       \u001b[0m | \u001b[0m 0.1013  \u001b[0m | \u001b[0m 9.995e+0\u001b[0m | \u001b[0m 9.946e+0\u001b[0m |\n",
      "| \u001b[95m 7       \u001b[0m | \u001b[95m 0.1029  \u001b[0m | \u001b[95m 9.979e+0\u001b[0m | \u001b[95m 2.52    \u001b[0m |\n",
      "| \u001b[0m 8       \u001b[0m | \u001b[0m 0.1013  \u001b[0m | \u001b[0m 9.999e+0\u001b[0m | \u001b[0m 4.748e+0\u001b[0m |\n",
      "| \u001b[0m 9       \u001b[0m | \u001b[0m 0.1013  \u001b[0m | \u001b[0m 5.324e+0\u001b[0m | \u001b[0m 9.999e+0\u001b[0m |\n",
      "| \u001b[0m 10      \u001b[0m | \u001b[0m 0.1013  \u001b[0m | \u001b[0m 15.79   \u001b[0m | \u001b[0m 9.952e+0\u001b[0m |\n",
      "| \u001b[95m 11      \u001b[0m | \u001b[95m 0.1118  \u001b[0m | \u001b[95m 6.073e+0\u001b[0m | \u001b[95m 0.9725  \u001b[0m |\n",
      "| \u001b[0m 12      \u001b[0m | \u001b[0m 0.1068  \u001b[0m | \u001b[0m 5.774e+0\u001b[0m | \u001b[0m 1.999   \u001b[0m |\n",
      "| \u001b[0m 13      \u001b[0m | \u001b[0m 0.1013  \u001b[0m | \u001b[0m 6.067e+0\u001b[0m | \u001b[0m 6.979   \u001b[0m |\n",
      "| \u001b[0m 14      \u001b[0m | \u001b[0m 0.1107  \u001b[0m | \u001b[0m 5.99e+03\u001b[0m | \u001b[0m 1.339   \u001b[0m |\n",
      "| \u001b[0m 15      \u001b[0m | \u001b[0m 0.1118  \u001b[0m | \u001b[0m 6.164e+0\u001b[0m | \u001b[0m 0.9793  \u001b[0m |\n",
      "=================================================\n"
     ]
    }
   ],
   "source": [
    "from bayes_opt import BayesianOptimization\n",
    "\n",
    "hparams = {'C': (0.0001, 10000), 'gamma': (0.0001, 10000)}\n",
    "\n",
    "svc_bayesopt = BayesianOptimization(estimator, hparams)\n",
    "\n",
    "svc_bayesopt.maximize(init_points=5, n_iter=10, acq='ucb')"
   ]
  },
  {
   "cell_type": "code",
   "execution_count": 111,
   "metadata": {},
   "outputs": [
    {
     "data": {
      "text/plain": [
       "{'params': {'C': 9402.684872249694, 'gamma': 0.0001},\n",
       " 'target': 0.9800000000000001}"
      ]
     },
     "execution_count": 111,
     "metadata": {},
     "output_type": "execute_result"
    }
   ],
   "source": [
    "optimizer.max"
   ]
  },
  {
   "cell_type": "code",
   "execution_count": null,
   "metadata": {},
   "outputs": [],
   "source": []
  }
 ],
 "metadata": {
  "kernelspec": {
   "display_name": "Python 3",
   "language": "python",
   "name": "python3"
  },
  "language_info": {
   "codemirror_mode": {
    "name": "ipython",
    "version": 3
   },
   "file_extension": ".py",
   "mimetype": "text/x-python",
   "name": "python",
   "nbconvert_exporter": "python",
   "pygments_lexer": "ipython3",
   "version": "3.5.1"
  }
 },
 "nbformat": 4,
 "nbformat_minor": 2
}
